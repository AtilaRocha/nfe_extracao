{
 "cells": [
  {
   "cell_type": "code",
   "execution_count": 5,
   "metadata": {},
   "outputs": [],
   "source": [
    "# pip install lxml\n",
    "\n",
    "import xml.etree.ElementTree as ET\n",
    "import pandas as pd\n"
   ]
  },
  {
   "cell_type": "code",
   "execution_count": 6,
   "metadata": {},
   "outputs": [],
   "source": [
    "def extrair_nfe(arquivo):\n",
    "  tree = ET.parse(arquivo)\n",
    "  root = tree.getroot()\n",
    "\n",
    "  ns = {'nfe':'http://www.portalfiscal.inf.br/nfe'}\n",
    "\n",
    "  #Extrair as informações desejadas da NFE\n",
    "  emitente = root.find('.//nfe:emit', ns)\n",
    "  emitente_nome = emitente.find('.//nfe:xNome', ns).text\n",
    "  emitente_cnpj = emitente.find('.//nfe:CNPJ', ns).text\n",
    "\n",
    "  total = root.find('.//nfe:total', ns)\n",
    "  valor_total = total.find('.//nfe:vNF', ns).text\n",
    "\n",
    "  ide = root.find('.//nfe:ide', ns)\n",
    "  numero_nfe = ide.find('.//nfe:nNF', ns).text\n",
    "  data_emissao = ide.find('.//nfe:dhEmi', ns).text\n",
    "\n",
    "  # Criar o DataFrame com as informações extraídas\n",
    "  data = {'Emitente': [emitente_nome],\n",
    "            'CNPJ do Emitente': [emitente_cnpj],\n",
    "            'Valor Total da Nota': [valor_total],\n",
    "            'Número da Nota': [numero_nfe],\n",
    "            'Data de Emissão': [data_emissao]}\n",
    "\n",
    "  df = pd.DataFrame(data)\n",
    "  return df"
   ]
  },
  {
   "cell_type": "code",
   "execution_count": 7,
   "metadata": {},
   "outputs": [],
   "source": [
    "arquivo = './arquivo.xml'\n",
    "\n",
    "\n",
    "# Extrair as informações da NFE e criar o DataFrame\n",
    "df_nfe = extrair_nfe(arquivo)"
   ]
  },
  {
   "cell_type": "code",
   "execution_count": 8,
   "metadata": {},
   "outputs": [
    {
     "data": {
      "text/html": [
       "<div>\n",
       "<style scoped>\n",
       "    .dataframe tbody tr th:only-of-type {\n",
       "        vertical-align: middle;\n",
       "    }\n",
       "\n",
       "    .dataframe tbody tr th {\n",
       "        vertical-align: top;\n",
       "    }\n",
       "\n",
       "    .dataframe thead th {\n",
       "        text-align: right;\n",
       "    }\n",
       "</style>\n",
       "<table border=\"1\" class=\"dataframe\">\n",
       "  <thead>\n",
       "    <tr style=\"text-align: right;\">\n",
       "      <th></th>\n",
       "      <th>Emitente</th>\n",
       "      <th>CNPJ do Emitente</th>\n",
       "      <th>Valor Total da Nota</th>\n",
       "      <th>Número da Nota</th>\n",
       "      <th>Data de Emissão</th>\n",
       "    </tr>\n",
       "  </thead>\n",
       "  <tbody>\n",
       "    <tr>\n",
       "      <th>0</th>\n",
       "      <td>JORGE BATISTA &amp; CIA LTDA</td>\n",
       "      <td>07222185000985</td>\n",
       "      <td>2316.00</td>\n",
       "      <td>1265798</td>\n",
       "      <td>2020-05-09T17:31:00-03:00</td>\n",
       "    </tr>\n",
       "  </tbody>\n",
       "</table>\n",
       "</div>"
      ],
      "text/plain": [
       "                   Emitente CNPJ do Emitente Valor Total da Nota  \\\n",
       "0  JORGE BATISTA & CIA LTDA   07222185000985             2316.00   \n",
       "\n",
       "  Número da Nota            Data de Emissão  \n",
       "0        1265798  2020-05-09T17:31:00-03:00  "
      ]
     },
     "execution_count": 8,
     "metadata": {},
     "output_type": "execute_result"
    }
   ],
   "source": [
    "df_nfe"
   ]
  },
  {
   "cell_type": "code",
   "execution_count": null,
   "metadata": {},
   "outputs": [],
   "source": []
  }
 ],
 "metadata": {
  "kernelspec": {
   "display_name": "Python 3",
   "language": "python",
   "name": "python3"
  },
  "language_info": {
   "codemirror_mode": {
    "name": "ipython",
    "version": 3
   },
   "file_extension": ".py",
   "mimetype": "text/x-python",
   "name": "python",
   "nbconvert_exporter": "python",
   "pygments_lexer": "ipython3",
   "version": "3.10.6"
  },
  "orig_nbformat": 4
 },
 "nbformat": 4,
 "nbformat_minor": 2
}
